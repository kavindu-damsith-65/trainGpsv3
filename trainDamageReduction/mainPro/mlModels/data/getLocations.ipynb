{
  "nbformat": 4,
  "nbformat_minor": 0,
  "metadata": {
    "colab": {
      "provenance": []
    },
    "kernelspec": {
      "name": "python3",
      "display_name": "Python 3"
    },
    "language_info": {
      "name": "python"
    },
    "gpuClass": "standard",
    "accelerator": "GPU"
  },
  "cells": [
    {
      "cell_type": "code",
      "source": [],
      "metadata": {
        "id": "Z6gGBs330PC-"
      },
      "execution_count": null,
      "outputs": []
    },
    {
      "cell_type": "code",
      "source": [
        "import pandas as pd\n",
        "import requests\n",
        "import urllib.parse\n",
        "import geopy.distance\n",
        "import numpy as np"
      ],
      "metadata": {
        "id": "BNcc3LTOlGHm"
      },
      "execution_count": 12,
      "outputs": []
    },
    {
      "cell_type": "code",
      "execution_count": 2,
      "metadata": {
        "id": "Mh0H0FY_S1Ip"
      },
      "outputs": [],
      "source": [
        "\n",
        "df1 = pd.read_csv('stations.csv')\n",
        "# df1.head(3)\n",
        "\n",
        "df1=df1[['#station']]\n"
      ]
    },
    {
      "cell_type": "code",
      "source": [
        "finalDic={}\n",
        "\n",
        "for index, row in df1.iterrows():\n",
        "   currStation=row['#station']\n",
        "   if currStation not in finalDic.keys():\n",
        "       finalDic[currStation]=1\n",
        "   else:\n",
        "        finalDic[currStation]+=1"
      ],
      "metadata": {
        "id": "I4ElODGuV_6w"
      },
      "execution_count": 3,
      "outputs": []
    },
    {
      "cell_type": "code",
      "source": [
        "df2 = pd.read_csv('stations2.csv')\n",
        "df2.head(3)"
      ],
      "metadata": {
        "colab": {
          "base_uri": "https://localhost:8080/",
          "height": 143
        },
        "id": "1_uSIaSHWY_I",
        "outputId": "8c59305d-3a45-413b-a4a8-24096fb8bea9"
      },
      "execution_count": 4,
      "outputs": [
        {
          "output_type": "execute_result",
          "data": {
            "text/plain": [
              "       #line #station_B  accSum\n",
              "0  Main Line       Fort      30\n",
              "1  Main Line   Maradana      23\n",
              "2  Main Line   Kelaniya       4"
            ],
            "text/html": [
              "\n",
              "  <div id=\"df-6c313a33-fc79-430d-b87d-f1aca0d16281\">\n",
              "    <div class=\"colab-df-container\">\n",
              "      <div>\n",
              "<style scoped>\n",
              "    .dataframe tbody tr th:only-of-type {\n",
              "        vertical-align: middle;\n",
              "    }\n",
              "\n",
              "    .dataframe tbody tr th {\n",
              "        vertical-align: top;\n",
              "    }\n",
              "\n",
              "    .dataframe thead th {\n",
              "        text-align: right;\n",
              "    }\n",
              "</style>\n",
              "<table border=\"1\" class=\"dataframe\">\n",
              "  <thead>\n",
              "    <tr style=\"text-align: right;\">\n",
              "      <th></th>\n",
              "      <th>#line</th>\n",
              "      <th>#station_B</th>\n",
              "      <th>accSum</th>\n",
              "    </tr>\n",
              "  </thead>\n",
              "  <tbody>\n",
              "    <tr>\n",
              "      <th>0</th>\n",
              "      <td>Main Line</td>\n",
              "      <td>Fort</td>\n",
              "      <td>30</td>\n",
              "    </tr>\n",
              "    <tr>\n",
              "      <th>1</th>\n",
              "      <td>Main Line</td>\n",
              "      <td>Maradana</td>\n",
              "      <td>23</td>\n",
              "    </tr>\n",
              "    <tr>\n",
              "      <th>2</th>\n",
              "      <td>Main Line</td>\n",
              "      <td>Kelaniya</td>\n",
              "      <td>4</td>\n",
              "    </tr>\n",
              "  </tbody>\n",
              "</table>\n",
              "</div>\n",
              "      <button class=\"colab-df-convert\" onclick=\"convertToInteractive('df-6c313a33-fc79-430d-b87d-f1aca0d16281')\"\n",
              "              title=\"Convert this dataframe to an interactive table.\"\n",
              "              style=\"display:none;\">\n",
              "        \n",
              "  <svg xmlns=\"http://www.w3.org/2000/svg\" height=\"24px\"viewBox=\"0 0 24 24\"\n",
              "       width=\"24px\">\n",
              "    <path d=\"M0 0h24v24H0V0z\" fill=\"none\"/>\n",
              "    <path d=\"M18.56 5.44l.94 2.06.94-2.06 2.06-.94-2.06-.94-.94-2.06-.94 2.06-2.06.94zm-11 1L8.5 8.5l.94-2.06 2.06-.94-2.06-.94L8.5 2.5l-.94 2.06-2.06.94zm10 10l.94 2.06.94-2.06 2.06-.94-2.06-.94-.94-2.06-.94 2.06-2.06.94z\"/><path d=\"M17.41 7.96l-1.37-1.37c-.4-.4-.92-.59-1.43-.59-.52 0-1.04.2-1.43.59L10.3 9.45l-7.72 7.72c-.78.78-.78 2.05 0 2.83L4 21.41c.39.39.9.59 1.41.59.51 0 1.02-.2 1.41-.59l7.78-7.78 2.81-2.81c.8-.78.8-2.07 0-2.86zM5.41 20L4 18.59l7.72-7.72 1.47 1.35L5.41 20z\"/>\n",
              "  </svg>\n",
              "      </button>\n",
              "      \n",
              "  <style>\n",
              "    .colab-df-container {\n",
              "      display:flex;\n",
              "      flex-wrap:wrap;\n",
              "      gap: 12px;\n",
              "    }\n",
              "\n",
              "    .colab-df-convert {\n",
              "      background-color: #E8F0FE;\n",
              "      border: none;\n",
              "      border-radius: 50%;\n",
              "      cursor: pointer;\n",
              "      display: none;\n",
              "      fill: #1967D2;\n",
              "      height: 32px;\n",
              "      padding: 0 0 0 0;\n",
              "      width: 32px;\n",
              "    }\n",
              "\n",
              "    .colab-df-convert:hover {\n",
              "      background-color: #E2EBFA;\n",
              "      box-shadow: 0px 1px 2px rgba(60, 64, 67, 0.3), 0px 1px 3px 1px rgba(60, 64, 67, 0.15);\n",
              "      fill: #174EA6;\n",
              "    }\n",
              "\n",
              "    [theme=dark] .colab-df-convert {\n",
              "      background-color: #3B4455;\n",
              "      fill: #D2E3FC;\n",
              "    }\n",
              "\n",
              "    [theme=dark] .colab-df-convert:hover {\n",
              "      background-color: #434B5C;\n",
              "      box-shadow: 0px 1px 3px 1px rgba(0, 0, 0, 0.15);\n",
              "      filter: drop-shadow(0px 1px 2px rgba(0, 0, 0, 0.3));\n",
              "      fill: #FFFFFF;\n",
              "    }\n",
              "  </style>\n",
              "\n",
              "      <script>\n",
              "        const buttonEl =\n",
              "          document.querySelector('#df-6c313a33-fc79-430d-b87d-f1aca0d16281 button.colab-df-convert');\n",
              "        buttonEl.style.display =\n",
              "          google.colab.kernel.accessAllowed ? 'block' : 'none';\n",
              "\n",
              "        async function convertToInteractive(key) {\n",
              "          const element = document.querySelector('#df-6c313a33-fc79-430d-b87d-f1aca0d16281');\n",
              "          const dataTable =\n",
              "            await google.colab.kernel.invokeFunction('convertToInteractive',\n",
              "                                                     [key], {});\n",
              "          if (!dataTable) return;\n",
              "\n",
              "          const docLinkHtml = 'Like what you see? Visit the ' +\n",
              "            '<a target=\"_blank\" href=https://colab.research.google.com/notebooks/data_table.ipynb>data table notebook</a>'\n",
              "            + ' to learn more about interactive tables.';\n",
              "          element.innerHTML = '';\n",
              "          dataTable['output_type'] = 'display_data';\n",
              "          await google.colab.output.renderOutput(dataTable, element);\n",
              "          const docLink = document.createElement('div');\n",
              "          docLink.innerHTML = docLinkHtml;\n",
              "          element.appendChild(docLink);\n",
              "        }\n",
              "      </script>\n",
              "    </div>\n",
              "  </div>\n",
              "  "
            ]
          },
          "metadata": {},
          "execution_count": 4
        }
      ]
    },
    {
      "cell_type": "code",
      "source": [
        "for index, row in df2.iterrows():\n",
        "   currStation=row['#station_B']\n",
        "   if currStation not in finalDic.keys():\n",
        "       finalDic[currStation]=1\n",
        "   else:\n",
        "        finalDic[currStation]+=row['accSum']"
      ],
      "metadata": {
        "id": "UzKftB8lZCP4"
      },
      "execution_count": 5,
      "outputs": []
    },
    {
      "cell_type": "code",
      "source": [
        "newDic={'station':[],'countAccidents':[]}\n",
        "\n",
        "for key,value in finalDic.items():\n",
        "       newDic['station'].append(key)\n",
        "       newDic['countAccidents'].append(value)\n",
        "df3=pd.DataFrame.from_dict(newDic)\n",
        "df3.head(3)"
      ],
      "metadata": {
        "colab": {
          "base_uri": "https://localhost:8080/",
          "height": 143
        },
        "id": "VH0b9X2yiRMm",
        "outputId": "b78e8e74-cb29-48fa-9a26-36147ea14ab9"
      },
      "execution_count": 6,
      "outputs": [
        {
          "output_type": "execute_result",
          "data": {
            "text/plain": [
              "      station  countAccidents\n",
              "0        Fort              32\n",
              "1    Maradana              24\n",
              "2  Dematagoda               1"
            ],
            "text/html": [
              "\n",
              "  <div id=\"df-b0d4e67a-85a8-47a2-b630-4227957a4a8e\">\n",
              "    <div class=\"colab-df-container\">\n",
              "      <div>\n",
              "<style scoped>\n",
              "    .dataframe tbody tr th:only-of-type {\n",
              "        vertical-align: middle;\n",
              "    }\n",
              "\n",
              "    .dataframe tbody tr th {\n",
              "        vertical-align: top;\n",
              "    }\n",
              "\n",
              "    .dataframe thead th {\n",
              "        text-align: right;\n",
              "    }\n",
              "</style>\n",
              "<table border=\"1\" class=\"dataframe\">\n",
              "  <thead>\n",
              "    <tr style=\"text-align: right;\">\n",
              "      <th></th>\n",
              "      <th>station</th>\n",
              "      <th>countAccidents</th>\n",
              "    </tr>\n",
              "  </thead>\n",
              "  <tbody>\n",
              "    <tr>\n",
              "      <th>0</th>\n",
              "      <td>Fort</td>\n",
              "      <td>32</td>\n",
              "    </tr>\n",
              "    <tr>\n",
              "      <th>1</th>\n",
              "      <td>Maradana</td>\n",
              "      <td>24</td>\n",
              "    </tr>\n",
              "    <tr>\n",
              "      <th>2</th>\n",
              "      <td>Dematagoda</td>\n",
              "      <td>1</td>\n",
              "    </tr>\n",
              "  </tbody>\n",
              "</table>\n",
              "</div>\n",
              "      <button class=\"colab-df-convert\" onclick=\"convertToInteractive('df-b0d4e67a-85a8-47a2-b630-4227957a4a8e')\"\n",
              "              title=\"Convert this dataframe to an interactive table.\"\n",
              "              style=\"display:none;\">\n",
              "        \n",
              "  <svg xmlns=\"http://www.w3.org/2000/svg\" height=\"24px\"viewBox=\"0 0 24 24\"\n",
              "       width=\"24px\">\n",
              "    <path d=\"M0 0h24v24H0V0z\" fill=\"none\"/>\n",
              "    <path d=\"M18.56 5.44l.94 2.06.94-2.06 2.06-.94-2.06-.94-.94-2.06-.94 2.06-2.06.94zm-11 1L8.5 8.5l.94-2.06 2.06-.94-2.06-.94L8.5 2.5l-.94 2.06-2.06.94zm10 10l.94 2.06.94-2.06 2.06-.94-2.06-.94-.94-2.06-.94 2.06-2.06.94z\"/><path d=\"M17.41 7.96l-1.37-1.37c-.4-.4-.92-.59-1.43-.59-.52 0-1.04.2-1.43.59L10.3 9.45l-7.72 7.72c-.78.78-.78 2.05 0 2.83L4 21.41c.39.39.9.59 1.41.59.51 0 1.02-.2 1.41-.59l7.78-7.78 2.81-2.81c.8-.78.8-2.07 0-2.86zM5.41 20L4 18.59l7.72-7.72 1.47 1.35L5.41 20z\"/>\n",
              "  </svg>\n",
              "      </button>\n",
              "      \n",
              "  <style>\n",
              "    .colab-df-container {\n",
              "      display:flex;\n",
              "      flex-wrap:wrap;\n",
              "      gap: 12px;\n",
              "    }\n",
              "\n",
              "    .colab-df-convert {\n",
              "      background-color: #E8F0FE;\n",
              "      border: none;\n",
              "      border-radius: 50%;\n",
              "      cursor: pointer;\n",
              "      display: none;\n",
              "      fill: #1967D2;\n",
              "      height: 32px;\n",
              "      padding: 0 0 0 0;\n",
              "      width: 32px;\n",
              "    }\n",
              "\n",
              "    .colab-df-convert:hover {\n",
              "      background-color: #E2EBFA;\n",
              "      box-shadow: 0px 1px 2px rgba(60, 64, 67, 0.3), 0px 1px 3px 1px rgba(60, 64, 67, 0.15);\n",
              "      fill: #174EA6;\n",
              "    }\n",
              "\n",
              "    [theme=dark] .colab-df-convert {\n",
              "      background-color: #3B4455;\n",
              "      fill: #D2E3FC;\n",
              "    }\n",
              "\n",
              "    [theme=dark] .colab-df-convert:hover {\n",
              "      background-color: #434B5C;\n",
              "      box-shadow: 0px 1px 3px 1px rgba(0, 0, 0, 0.15);\n",
              "      filter: drop-shadow(0px 1px 2px rgba(0, 0, 0, 0.3));\n",
              "      fill: #FFFFFF;\n",
              "    }\n",
              "  </style>\n",
              "\n",
              "      <script>\n",
              "        const buttonEl =\n",
              "          document.querySelector('#df-b0d4e67a-85a8-47a2-b630-4227957a4a8e button.colab-df-convert');\n",
              "        buttonEl.style.display =\n",
              "          google.colab.kernel.accessAllowed ? 'block' : 'none';\n",
              "\n",
              "        async function convertToInteractive(key) {\n",
              "          const element = document.querySelector('#df-b0d4e67a-85a8-47a2-b630-4227957a4a8e');\n",
              "          const dataTable =\n",
              "            await google.colab.kernel.invokeFunction('convertToInteractive',\n",
              "                                                     [key], {});\n",
              "          if (!dataTable) return;\n",
              "\n",
              "          const docLinkHtml = 'Like what you see? Visit the ' +\n",
              "            '<a target=\"_blank\" href=https://colab.research.google.com/notebooks/data_table.ipynb>data table notebook</a>'\n",
              "            + ' to learn more about interactive tables.';\n",
              "          element.innerHTML = '';\n",
              "          dataTable['output_type'] = 'display_data';\n",
              "          await google.colab.output.renderOutput(dataTable, element);\n",
              "          const docLink = document.createElement('div');\n",
              "          docLink.innerHTML = docLinkHtml;\n",
              "          element.appendChild(docLink);\n",
              "        }\n",
              "      </script>\n",
              "    </div>\n",
              "  </div>\n",
              "  "
            ]
          },
          "metadata": {},
          "execution_count": 6
        }
      ]
    },
    {
      "cell_type": "code",
      "source": [
        "df3['lat']=None\n",
        "df3['lon']=None\n",
        "\n",
        "for i in range(len(df3)):\n",
        " \n",
        "  address = df3.iat[i,0]+' railway station, sri lanka'\n",
        "  \n",
        "  try:\n",
        "    url = 'https://nominatim.openstreetmap.org/search/' + urllib.parse.quote(address) +'?format=json'\n",
        "    response = requests.get(url).json()\n",
        "    cod1=response[0][\"lat\"]\n",
        "    cod2=response[0][\"lon\"]\n",
        "\n",
        "    # result=gmaps_key.geocode(address)\n",
        "    # cod1=result[0]['geometry']['location']['lat']\n",
        "    # cod2=result[0]['geometry']['location']['lat']\n",
        "    # print(cod1,cod2)\n",
        "    df3.iat[i,df3.columns.get_loc(\"lat\")]=cod1\n",
        "    df3.iat[i,df3.columns.get_loc(\"lon\")]=cod2\n",
        "  except:\n",
        "    pass\n",
        " \n",
        "  if i%15==0:\n",
        "    \n",
        "     print(df3.loc[[i]])\n",
        "      \n",
        "# print(df3)\n",
        "   "
      ],
      "metadata": {
        "id": "ISkO7DkgjfyX"
      },
      "execution_count": null,
      "outputs": []
    },
    {
      "cell_type": "code",
      "source": [
        "df3.info()"
      ],
      "metadata": {
        "id": "UWBrZmrRm4It"
      },
      "execution_count": null,
      "outputs": []
    },
    {
      "cell_type": "code",
      "source": [
        "dfTrain = pd.read_csv('trainPaths.csv')\n",
        "dfTrain.dtypes"
      ],
      "metadata": {
        "id": "w6esie65z_mQ"
      },
      "execution_count": null,
      "outputs": []
    },
    {
      "cell_type": "code",
      "source": [
        "df4=df3.copy()\n",
        "df4=df4.dropna()\n",
        "df4.reset_index(drop=True, inplace=True)\n",
        "df4.info()"
      ],
      "metadata": {
        "id": "Qj6K9IlWZZ4U"
      },
      "execution_count": null,
      "outputs": []
    },
    {
      "cell_type": "code",
      "source": [
        "df4.head()"
      ],
      "metadata": {
        "id": "qnTOeELGoji9"
      },
      "execution_count": null,
      "outputs": []
    },
    {
      "cell_type": "code",
      "source": [
        "df4['lat'] = df4['lat'].astype(float)\n",
        "df4['lon'] = df4['lon'].astype(float)\n",
        "\n",
        "df4.dtypes"
      ],
      "metadata": {
        "id": "-QWfcBBGHDHr"
      },
      "execution_count": null,
      "outputs": []
    },
    {
      "cell_type": "code",
      "source": [
        "rowCount=0\n",
        "for i in range(len(df4)):\n",
        "  count=0\n",
        "  val = df4.iat[i,1]\n",
        "  latDis=df4.iat[i,2]\n",
        "  lonDis=df4.iat[i,3]\n",
        "  \n",
        "  for j in range(len(dfTrain)):   \n",
        "    lat,lon = dfTrain.iat[j,0],dfTrain.iat[j,1]\n",
        "    dist=geopy.distance.geodesic((lat,lon), (latDis,lonDis)).m\n",
        "    if dist<700 and (lat not in df4['lat'].values or lat not in df4['lon'].values ):\n",
        "              newRow={'station':df4.iat[i,0] , 'countAccidents': val, 'lat': lat,'lon':lon}\n",
        "              df4 = df4.append(newRow, ignore_index=True)\n",
        "              if rowCount%20==0:\n",
        "                print(\"row Added\",rowCount)\n",
        "              rowCount+=1\n",
        "              count+=1\n",
        "    if count==(20 if val>1 else 5):\n",
        "        print(\"breaked\")\n",
        "        break\n",
        "  \n",
        "            \n",
        "     \n",
        "      "
      ],
      "metadata": {
        "id": "zfJ0VwrhzVBc"
      },
      "execution_count": null,
      "outputs": []
    },
    {
      "cell_type": "code",
      "source": [
        "df4.to_csv('trainLocationFinalData.csv', index=False)"
      ],
      "metadata": {
        "id": "ewhC7vU2HHJW"
      },
      "execution_count": 73,
      "outputs": []
    },
    {
      "cell_type": "code",
      "source": [],
      "metadata": {
        "id": "LgDBqYfYq7GG"
      },
      "execution_count": null,
      "outputs": []
    },
    {
      "cell_type": "code",
      "source": [],
      "metadata": {
        "id": "hfqArnDfq7g1"
      },
      "execution_count": null,
      "outputs": []
    },
    {
      "cell_type": "code",
      "source": [
        "df4=pd.read_csv('trainLocationFinalData.csv')"
      ],
      "metadata": {
        "id": "xjH__lWgqw3D"
      },
      "execution_count": 4,
      "outputs": []
    },
    {
      "cell_type": "code",
      "source": [
        "import matplotlib.pyplot as plt\n",
        "\n",
        "ax =df4.plot(kind='scatter', x='lon', y='lat')\n",
        "ax.axis('equal')\n",
        "\n",
        "# plt.savefig('trainValues.svg', format='svg', bbox_inches='tight')\n",
        "# plt.savefig('sine_wave.png', dpi=300)\n",
        "plt.show()"
      ],
      "metadata": {
        "id": "zNWPbmQ39QqQ",
        "outputId": "52841f97-4fbe-4085-d5ed-7b2bcff0c44c",
        "colab": {
          "base_uri": "https://localhost:8080/",
          "height": 279
        }
      },
      "execution_count": 5,
      "outputs": [
        {
          "output_type": "display_data",
          "data": {
            "text/plain": [
              "<Figure size 432x288 with 1 Axes>"
            ],
            "image/png": "[encoded data removed]"
          },
          "metadata": {
            "needs_background": "light"
          }
        }
      ]
    },
    {
      "cell_type": "code",
      "source": [
        "from sklearn.preprocessing import MinMaxScaler\n",
        "from sklearn.preprocessing import StandardScaler\n",
        "\n",
        "scaler1 = MinMaxScaler()\n",
        "scaler2 = MinMaxScaler()\n",
        "\n",
        "X = scaler1.fit_transform(df4[['lat','lon']])\n",
        "y=scaler2.fit_transform(df4[['countAccidents']])\n"
      ],
      "metadata": {
        "id": "J5NsnPRRIh5r"
      },
      "execution_count": 6,
      "outputs": []
    },
    {
      "cell_type": "code",
      "source": [
        "import pickle\n",
        "scalerfile1 = 'scalerLocation.sav'\n",
        "scalerfile2 = 'scalerLocationYData.sav'\n",
        "pickle.dump(scaler1, open(scalerfile1, 'wb'))\n",
        "pickle.dump(scaler2, open(scalerfile2, 'wb'))"
      ],
      "metadata": {
        "id": "d0JJlH8Em_w9"
      },
      "execution_count": 7,
      "outputs": []
    },
    {
      "cell_type": "code",
      "source": [
        "# Extracting the independent variables and dependent variable\n",
        "\n",
        "print(X.shape,y.shape)"
      ],
      "metadata": {
        "colab": {
          "base_uri": "https://localhost:8080/"
        },
        "id": "5zTVRo60F54t",
        "outputId": "8a1a7017-75d5-455c-f8cc-e16755b37f53"
      },
      "execution_count": 8,
      "outputs": [
        {
          "output_type": "stream",
          "name": "stdout",
          "text": [
            "(1634, 2) (1634, 1)\n"
          ]
        }
      ]
    },
    {
      "cell_type": "code",
      "source": [
        "from sklearn.linear_model import LinearRegression\n",
        "from sklearn.preprocessing import PolynomialFeatures\n",
        "\n",
        "\n",
        "# Creating the polynomial features of degree 2\n",
        "poly = PolynomialFeatures(degree=80)\n",
        "X_poly = poly.fit_transform(X)\n",
        "\n",
        "# Creating the regression model\n",
        "regressor = LinearRegression()\n",
        "\n",
        "# Training the model on the polynomial features\n",
        "regressor.fit(X_poly, y)\n",
        "\n",
        "# Predicting the output\n",
        "y_pred = regressor.predict(X_poly)\n",
        "\n",
        "# Printing the coefficients and intercept\n",
        "print(\"Coefficients: \", regressor.coef_)\n",
        "print(\"Intercept: \", regressor.intercept_)\n"
      ],
      "metadata": {
        "id": "iSZTUQzTot9W",
        "colab": {
          "base_uri": "https://localhost:8080/"
        },
        "outputId": "cd1eb111-bf39-461b-a8a1-3c0dd56a40cc"
      },
      "execution_count": 9,
      "outputs": [
        {
          "output_type": "stream",
          "name": "stdout",
          "text": [
            "Coefficients:  [[-3.55133215e+12 -3.77160616e+07 -5.83396966e+07 ... -7.03289679e+10\n",
            "   3.72277391e+12  3.06716405e+12]]\n",
            "Intercept:  [3.5513343e+12]\n"
          ]
        }
      ]
    },
    {
      "cell_type": "code",
      "source": [
        "# save model\n",
        "import joblib\n",
        "\n",
        "joblib.dump(regressor, 'locationDetecter')\n",
        "joblib.dump(poly, 'locationDetecterPolynomial')\n",
        "\n",
        "# load and predict\n",
        "poilynomia_features_model = joblib.load('locationDetecterPolynomial')\n",
        "themodel = joblib.load('locationDetecter')\n",
        "\n",
        "X_val_prep = poilynomia_features_model.transform(X)\n",
        "predictions = themodel.predict(X_val_prep)\n",
        "\n",
        "\n"
      ],
      "metadata": {
        "id": "u8mGHlD5VW5v"
      },
      "execution_count": 10,
      "outputs": []
    },
    {
      "cell_type": "code",
      "source": [
        "original=scaler2.inverse_transform(y_pred)\n",
        "nonScaled=scaler2.inverse_transform(y)\n",
        "\n",
        "myArr= np.concatenate((original, nonScaled), axis=1)\n",
        "print(myArr[:50])"
      ],
      "metadata": {
        "id": "GxzeVzDVVXJv"
      },
      "execution_count": null,
      "outputs": []
    },
    {
      "cell_type": "code",
      "source": [
        "import pickle\n",
        "scalerfile = 'scalerLocationYData.sav'\n",
        "scalerNew = pickle.load(open(scalerfile, 'rb'))\n",
        "\n",
        "original=scalerNew.inverse_transform(predictions)\n",
        "nonScaled=scalerNew.inverse_transform(y)\n",
        "\n",
        "myArr= np.concatenate((original, nonScaled), axis=1)\n",
        "print(myArr[:50])"
      ],
      "metadata": {
        "id": "2Lfybn1moI1T"
      },
      "execution_count": null,
      "outputs": []
    },
    {
      "cell_type": "code",
      "source": [
        "from sklearn.metrics import r2_score\n",
        "# calculate R-squared of the model\n",
        "r2 = r2_score(y, predictions)\n",
        "print(\"R-squared score: \", r2)"
      ],
      "metadata": {
        "colab": {
          "base_uri": "https://localhost:8080/"
        },
        "id": "NEVG7PhNPSNX",
        "outputId": "36a50295-f6c3-4d1d-b1ca-cebf0ebad3d4"
      },
      "execution_count": 15,
      "outputs": [
        {
          "output_type": "stream",
          "name": "stdout",
          "text": [
            "R-squared score:  0.7725284152628901\n"
          ]
        }
      ]
    }
  ]
}